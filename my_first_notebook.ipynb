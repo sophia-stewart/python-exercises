{
 "cells": [
  {
   "cell_type": "code",
   "execution_count": null,
   "id": "1ddb7750",
   "metadata": {},
   "outputs": [],
   "source": [
    "# My First Jupyter Notebook"
   ]
  },
  {
   "cell_type": "code",
   "execution_count": 1,
   "id": "8ddeea07",
   "metadata": {},
   "outputs": [
    {
     "name": "stdout",
     "output_type": "stream",
     "text": [
      "Hola\n"
     ]
    }
   ],
   "source": [
    "print('Hola')"
   ]
  },
  {
   "cell_type": "code",
   "execution_count": 2,
   "id": "08ab7f5a",
   "metadata": {},
   "outputs": [
    {
     "data": {
      "text/plain": [
       "18"
      ]
     },
     "execution_count": 2,
     "metadata": {},
     "output_type": "execute_result"
    }
   ],
   "source": [
    "3+15"
   ]
  },
  {
   "cell_type": "code",
   "execution_count": 6,
   "id": "23becfda",
   "metadata": {},
   "outputs": [
    {
     "name": "stdout",
     "output_type": "stream",
     "text": [
      "7\n"
     ]
    }
   ],
   "source": [
    "four = 4\n",
    "three = 3\n",
    "print(four + three)"
   ]
  },
  {
   "cell_type": "code",
   "execution_count": 7,
   "id": "27a55249",
   "metadata": {},
   "outputs": [],
   "source": [
    "# Shift + Enter runs a cell"
   ]
  },
  {
   "cell_type": "code",
   "execution_count": 8,
   "id": "e57abc21",
   "metadata": {},
   "outputs": [
    {
     "name": "stdout",
     "output_type": "stream",
     "text": [
      "my_first_notebook.ipynb           readme.md\r\n",
      "python_introduction_exercises.py\r\n"
     ]
    }
   ],
   "source": [
    "ls"
   ]
  },
  {
   "cell_type": "code",
   "execution_count": 9,
   "id": "a5336325",
   "metadata": {},
   "outputs": [],
   "source": [
    "# You can use Jupyter to run commands in the terminal, like in ipython"
   ]
  },
  {
   "cell_type": "code",
   "execution_count": 10,
   "id": "34d834bd",
   "metadata": {},
   "outputs": [],
   "source": [
    "# These cells are not isolated! The scope of these variables is global.\n",
    "# You can assign a variable in one cell and use it in a subsequent cell:"
   ]
  },
  {
   "cell_type": "code",
   "execution_count": 11,
   "id": "17b54e13",
   "metadata": {},
   "outputs": [
    {
     "name": "stdout",
     "output_type": "stream",
     "text": [
      "4\n"
     ]
    }
   ],
   "source": [
    "print(four)"
   ]
  },
  {
   "cell_type": "code",
   "execution_count": null,
   "id": "2c9076d4",
   "metadata": {},
   "outputs": [],
   "source": []
  }
 ],
 "metadata": {
  "kernelspec": {
   "display_name": "Python 3",
   "language": "python",
   "name": "python3"
  },
  "language_info": {
   "codemirror_mode": {
    "name": "ipython",
    "version": 3
   },
   "file_extension": ".py",
   "mimetype": "text/x-python",
   "name": "python",
   "nbconvert_exporter": "python",
   "pygments_lexer": "ipython3",
   "version": "3.8.8"
  }
 },
 "nbformat": 4,
 "nbformat_minor": 5
}
